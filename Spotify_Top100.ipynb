{
 "cells": [
  {
   "cell_type": "code",
   "execution_count": 1,
   "metadata": {},
   "outputs": [],
   "source": [
    "import numpy as np\n",
    "import pandas as pd\n",
    "import matplotlib.pyplot as plt\n",
    "import seaborn as sns\n",
    "%matplotlib inline"
   ]
  },
  {
   "cell_type": "code",
   "execution_count": 20,
   "metadata": {},
   "outputs": [],
   "source": [
    "data = pd.read_csv('top2018.csv')"
   ]
  },
  {
   "cell_type": "code",
   "execution_count": 21,
   "metadata": {},
   "outputs": [
    {
     "data": {
      "text/html": [
       "<div>\n",
       "<style scoped>\n",
       "    .dataframe tbody tr th:only-of-type {\n",
       "        vertical-align: middle;\n",
       "    }\n",
       "\n",
       "    .dataframe tbody tr th {\n",
       "        vertical-align: top;\n",
       "    }\n",
       "\n",
       "    .dataframe thead th {\n",
       "        text-align: right;\n",
       "    }\n",
       "</style>\n",
       "<table border=\"1\" class=\"dataframe\">\n",
       "  <thead>\n",
       "    <tr style=\"text-align: right;\">\n",
       "      <th></th>\n",
       "      <th>id</th>\n",
       "      <th>name</th>\n",
       "      <th>artists</th>\n",
       "      <th>danceability</th>\n",
       "      <th>energy</th>\n",
       "      <th>key</th>\n",
       "      <th>loudness</th>\n",
       "      <th>mode</th>\n",
       "      <th>speechiness</th>\n",
       "      <th>acousticness</th>\n",
       "      <th>instrumentalness</th>\n",
       "      <th>liveness</th>\n",
       "      <th>valence</th>\n",
       "      <th>tempo</th>\n",
       "      <th>duration_ms</th>\n",
       "      <th>time_signature</th>\n",
       "    </tr>\n",
       "  </thead>\n",
       "  <tbody>\n",
       "    <tr>\n",
       "      <th>0</th>\n",
       "      <td>6DCZcSspjsKoFjzjrWoCd</td>\n",
       "      <td>God's Plan</td>\n",
       "      <td>Drake</td>\n",
       "      <td>0.754</td>\n",
       "      <td>0.449</td>\n",
       "      <td>7.0</td>\n",
       "      <td>-9.211</td>\n",
       "      <td>1.0</td>\n",
       "      <td>0.1090</td>\n",
       "      <td>0.03320</td>\n",
       "      <td>0.000083</td>\n",
       "      <td>0.5520</td>\n",
       "      <td>0.357</td>\n",
       "      <td>77.169</td>\n",
       "      <td>198973.0</td>\n",
       "      <td>4.0</td>\n",
       "    </tr>\n",
       "    <tr>\n",
       "      <th>1</th>\n",
       "      <td>3ee8Jmje8o58CHK66QrVC</td>\n",
       "      <td>SAD!</td>\n",
       "      <td>XXXTENTACION</td>\n",
       "      <td>0.740</td>\n",
       "      <td>0.613</td>\n",
       "      <td>8.0</td>\n",
       "      <td>-4.880</td>\n",
       "      <td>1.0</td>\n",
       "      <td>0.1450</td>\n",
       "      <td>0.25800</td>\n",
       "      <td>0.003720</td>\n",
       "      <td>0.1230</td>\n",
       "      <td>0.473</td>\n",
       "      <td>75.023</td>\n",
       "      <td>166606.0</td>\n",
       "      <td>4.0</td>\n",
       "    </tr>\n",
       "    <tr>\n",
       "      <th>2</th>\n",
       "      <td>0e7ipj03S05BNilyu5bRz</td>\n",
       "      <td>rockstar (feat. 21 Savage)</td>\n",
       "      <td>Post Malone</td>\n",
       "      <td>0.587</td>\n",
       "      <td>0.535</td>\n",
       "      <td>5.0</td>\n",
       "      <td>-6.090</td>\n",
       "      <td>0.0</td>\n",
       "      <td>0.0898</td>\n",
       "      <td>0.11700</td>\n",
       "      <td>0.000066</td>\n",
       "      <td>0.1310</td>\n",
       "      <td>0.140</td>\n",
       "      <td>159.847</td>\n",
       "      <td>218147.0</td>\n",
       "      <td>4.0</td>\n",
       "    </tr>\n",
       "    <tr>\n",
       "      <th>3</th>\n",
       "      <td>3swc6WTsr7rl9DqQKQA55</td>\n",
       "      <td>Psycho (feat. Ty Dolla $ign)</td>\n",
       "      <td>Post Malone</td>\n",
       "      <td>0.739</td>\n",
       "      <td>0.559</td>\n",
       "      <td>8.0</td>\n",
       "      <td>-8.011</td>\n",
       "      <td>1.0</td>\n",
       "      <td>0.1170</td>\n",
       "      <td>0.58000</td>\n",
       "      <td>0.000000</td>\n",
       "      <td>0.1120</td>\n",
       "      <td>0.439</td>\n",
       "      <td>140.124</td>\n",
       "      <td>221440.0</td>\n",
       "      <td>4.0</td>\n",
       "    </tr>\n",
       "    <tr>\n",
       "      <th>4</th>\n",
       "      <td>2G7V7zsVDxg1yRsu7Ew9R</td>\n",
       "      <td>In My Feelings</td>\n",
       "      <td>Drake</td>\n",
       "      <td>0.835</td>\n",
       "      <td>0.626</td>\n",
       "      <td>1.0</td>\n",
       "      <td>-5.833</td>\n",
       "      <td>1.0</td>\n",
       "      <td>0.1250</td>\n",
       "      <td>0.05890</td>\n",
       "      <td>0.000060</td>\n",
       "      <td>0.3960</td>\n",
       "      <td>0.350</td>\n",
       "      <td>91.030</td>\n",
       "      <td>217925.0</td>\n",
       "      <td>4.0</td>\n",
       "    </tr>\n",
       "    <tr>\n",
       "      <th>5</th>\n",
       "      <td>7dt6x5M1jzdTEt8oCbisT</td>\n",
       "      <td>Better Now</td>\n",
       "      <td>Post Malone</td>\n",
       "      <td>0.680</td>\n",
       "      <td>0.563</td>\n",
       "      <td>10.0</td>\n",
       "      <td>-5.843</td>\n",
       "      <td>1.0</td>\n",
       "      <td>0.0454</td>\n",
       "      <td>0.35400</td>\n",
       "      <td>0.000000</td>\n",
       "      <td>0.1360</td>\n",
       "      <td>0.374</td>\n",
       "      <td>145.028</td>\n",
       "      <td>231267.0</td>\n",
       "      <td>4.0</td>\n",
       "    </tr>\n",
       "    <tr>\n",
       "      <th>6</th>\n",
       "      <td>58q2HKrzhC3ozto2nDdN4</td>\n",
       "      <td>I Like It</td>\n",
       "      <td>Cardi B</td>\n",
       "      <td>0.816</td>\n",
       "      <td>0.726</td>\n",
       "      <td>5.0</td>\n",
       "      <td>-3.998</td>\n",
       "      <td>0.0</td>\n",
       "      <td>0.1290</td>\n",
       "      <td>0.09900</td>\n",
       "      <td>0.000000</td>\n",
       "      <td>0.3720</td>\n",
       "      <td>0.650</td>\n",
       "      <td>136.048</td>\n",
       "      <td>253390.0</td>\n",
       "      <td>4.0</td>\n",
       "    </tr>\n",
       "    <tr>\n",
       "      <th>7</th>\n",
       "      <td>7ef4DlsgrMEH11cDZd32M</td>\n",
       "      <td>One Kiss (with Dua Lipa)</td>\n",
       "      <td>Calvin Harris</td>\n",
       "      <td>0.791</td>\n",
       "      <td>0.862</td>\n",
       "      <td>9.0</td>\n",
       "      <td>-3.240</td>\n",
       "      <td>0.0</td>\n",
       "      <td>0.1100</td>\n",
       "      <td>0.03700</td>\n",
       "      <td>0.000022</td>\n",
       "      <td>0.0814</td>\n",
       "      <td>0.592</td>\n",
       "      <td>123.994</td>\n",
       "      <td>214847.0</td>\n",
       "      <td>4.0</td>\n",
       "    </tr>\n",
       "    <tr>\n",
       "      <th>8</th>\n",
       "      <td>76cy1WJvNGJTj78UqeA5z</td>\n",
       "      <td>IDGAF</td>\n",
       "      <td>Dua Lipa</td>\n",
       "      <td>0.836</td>\n",
       "      <td>0.544</td>\n",
       "      <td>7.0</td>\n",
       "      <td>-5.975</td>\n",
       "      <td>1.0</td>\n",
       "      <td>0.0943</td>\n",
       "      <td>0.04030</td>\n",
       "      <td>0.000000</td>\n",
       "      <td>0.0824</td>\n",
       "      <td>0.510</td>\n",
       "      <td>97.028</td>\n",
       "      <td>217947.0</td>\n",
       "      <td>4.0</td>\n",
       "    </tr>\n",
       "    <tr>\n",
       "      <th>9</th>\n",
       "      <td>08bNPGLD8AhKpnnERrAc6</td>\n",
       "      <td>FRIENDS</td>\n",
       "      <td>Marshmello</td>\n",
       "      <td>0.626</td>\n",
       "      <td>0.880</td>\n",
       "      <td>9.0</td>\n",
       "      <td>-2.384</td>\n",
       "      <td>0.0</td>\n",
       "      <td>0.0504</td>\n",
       "      <td>0.20500</td>\n",
       "      <td>0.000000</td>\n",
       "      <td>0.1280</td>\n",
       "      <td>0.534</td>\n",
       "      <td>95.079</td>\n",
       "      <td>202621.0</td>\n",
       "      <td>4.0</td>\n",
       "    </tr>\n",
       "    <tr>\n",
       "      <th>10</th>\n",
       "      <td>1rfofaqEpACxVEHIZBJe6</td>\n",
       "      <td>Havana</td>\n",
       "      <td>Camila Cabello</td>\n",
       "      <td>0.765</td>\n",
       "      <td>0.523</td>\n",
       "      <td>2.0</td>\n",
       "      <td>-4.333</td>\n",
       "      <td>1.0</td>\n",
       "      <td>0.0300</td>\n",
       "      <td>0.18400</td>\n",
       "      <td>0.000036</td>\n",
       "      <td>0.1320</td>\n",
       "      <td>0.394</td>\n",
       "      <td>104.988</td>\n",
       "      <td>217307.0</td>\n",
       "      <td>4.0</td>\n",
       "    </tr>\n",
       "    <tr>\n",
       "      <th>11</th>\n",
       "      <td>0s3nnoMeVWz3989MkNQiR</td>\n",
       "      <td>Lucid Dreams</td>\n",
       "      <td>Juice WRLD</td>\n",
       "      <td>0.511</td>\n",
       "      <td>0.566</td>\n",
       "      <td>6.0</td>\n",
       "      <td>-7.230</td>\n",
       "      <td>0.0</td>\n",
       "      <td>0.2000</td>\n",
       "      <td>0.34900</td>\n",
       "      <td>0.000000</td>\n",
       "      <td>0.3400</td>\n",
       "      <td>0.218</td>\n",
       "      <td>83.903</td>\n",
       "      <td>239836.0</td>\n",
       "      <td>4.0</td>\n",
       "    </tr>\n",
       "    <tr>\n",
       "      <th>12</th>\n",
       "      <td>3CA9pLiwRIGtUBiMjbZmR</td>\n",
       "      <td>Nice For What</td>\n",
       "      <td>Drake</td>\n",
       "      <td>0.586</td>\n",
       "      <td>0.909</td>\n",
       "      <td>8.0</td>\n",
       "      <td>-6.474</td>\n",
       "      <td>1.0</td>\n",
       "      <td>0.0705</td>\n",
       "      <td>0.08910</td>\n",
       "      <td>0.000109</td>\n",
       "      <td>0.1190</td>\n",
       "      <td>0.757</td>\n",
       "      <td>93.394</td>\n",
       "      <td>210747.0</td>\n",
       "      <td>4.0</td>\n",
       "    </tr>\n",
       "    <tr>\n",
       "      <th>13</th>\n",
       "      <td>7fa9MBXhVfQ8P8Df9OEbD</td>\n",
       "      <td>Girls Like You (feat. Cardi B)</td>\n",
       "      <td>Maroon 5</td>\n",
       "      <td>0.851</td>\n",
       "      <td>0.541</td>\n",
       "      <td>0.0</td>\n",
       "      <td>-6.825</td>\n",
       "      <td>1.0</td>\n",
       "      <td>0.0505</td>\n",
       "      <td>0.56800</td>\n",
       "      <td>0.000000</td>\n",
       "      <td>0.1300</td>\n",
       "      <td>0.448</td>\n",
       "      <td>124.959</td>\n",
       "      <td>235545.0</td>\n",
       "      <td>4.0</td>\n",
       "    </tr>\n",
       "    <tr>\n",
       "      <th>14</th>\n",
       "      <td>09IStsImFySgyp0pIQdqA</td>\n",
       "      <td>The Middle</td>\n",
       "      <td>Zedd</td>\n",
       "      <td>0.753</td>\n",
       "      <td>0.657</td>\n",
       "      <td>7.0</td>\n",
       "      <td>-3.061</td>\n",
       "      <td>1.0</td>\n",
       "      <td>0.0449</td>\n",
       "      <td>0.17100</td>\n",
       "      <td>0.000000</td>\n",
       "      <td>0.1120</td>\n",
       "      <td>0.437</td>\n",
       "      <td>107.010</td>\n",
       "      <td>184732.0</td>\n",
       "      <td>4.0</td>\n",
       "    </tr>\n",
       "    <tr>\n",
       "      <th>15</th>\n",
       "      <td>3GCdLUSnKSMJhs4Tj6CV3</td>\n",
       "      <td>All The Stars (with SZA)</td>\n",
       "      <td>Kendrick Lamar</td>\n",
       "      <td>0.698</td>\n",
       "      <td>0.633</td>\n",
       "      <td>8.0</td>\n",
       "      <td>-4.946</td>\n",
       "      <td>1.0</td>\n",
       "      <td>0.0597</td>\n",
       "      <td>0.06050</td>\n",
       "      <td>0.000194</td>\n",
       "      <td>0.0926</td>\n",
       "      <td>0.552</td>\n",
       "      <td>96.924</td>\n",
       "      <td>232187.0</td>\n",
       "      <td>4.0</td>\n",
       "    </tr>\n",
       "    <tr>\n",
       "      <th>16</th>\n",
       "      <td>2qT1uLXPVPzGgFOx4jtEu</td>\n",
       "      <td>no tears left to cry</td>\n",
       "      <td>Ariana Grande</td>\n",
       "      <td>0.699</td>\n",
       "      <td>0.713</td>\n",
       "      <td>9.0</td>\n",
       "      <td>-5.507</td>\n",
       "      <td>0.0</td>\n",
       "      <td>0.0594</td>\n",
       "      <td>0.04000</td>\n",
       "      <td>0.000003</td>\n",
       "      <td>0.2940</td>\n",
       "      <td>0.354</td>\n",
       "      <td>121.993</td>\n",
       "      <td>205920.0</td>\n",
       "      <td>4.0</td>\n",
       "    </tr>\n",
       "    <tr>\n",
       "      <th>17</th>\n",
       "      <td>39N9RPD9MRb5WmoLzNzPe</td>\n",
       "      <td>X</td>\n",
       "      <td>Nicky Jam</td>\n",
       "      <td>0.595</td>\n",
       "      <td>0.773</td>\n",
       "      <td>9.0</td>\n",
       "      <td>-4.736</td>\n",
       "      <td>0.0</td>\n",
       "      <td>0.0549</td>\n",
       "      <td>0.03640</td>\n",
       "      <td>0.001080</td>\n",
       "      <td>0.3340</td>\n",
       "      <td>0.711</td>\n",
       "      <td>180.073</td>\n",
       "      <td>173628.0</td>\n",
       "      <td>4.0</td>\n",
       "    </tr>\n",
       "    <tr>\n",
       "      <th>18</th>\n",
       "      <td>0JP9xo3adEtGSdUEISisz</td>\n",
       "      <td>Moonlight</td>\n",
       "      <td>XXXTENTACION</td>\n",
       "      <td>0.921</td>\n",
       "      <td>0.537</td>\n",
       "      <td>9.0</td>\n",
       "      <td>-5.723</td>\n",
       "      <td>0.0</td>\n",
       "      <td>0.0804</td>\n",
       "      <td>0.55600</td>\n",
       "      <td>0.004040</td>\n",
       "      <td>0.1020</td>\n",
       "      <td>0.711</td>\n",
       "      <td>128.009</td>\n",
       "      <td>135090.0</td>\n",
       "      <td>4.0</td>\n",
       "    </tr>\n",
       "    <tr>\n",
       "      <th>19</th>\n",
       "      <td>4qKcDkK6siZ7Jp1Jb4m0a</td>\n",
       "      <td>Look Alive (feat. Drake)</td>\n",
       "      <td>BlocBoy JB</td>\n",
       "      <td>0.922</td>\n",
       "      <td>0.581</td>\n",
       "      <td>10.0</td>\n",
       "      <td>-7.495</td>\n",
       "      <td>1.0</td>\n",
       "      <td>0.2700</td>\n",
       "      <td>0.00104</td>\n",
       "      <td>0.000059</td>\n",
       "      <td>0.1050</td>\n",
       "      <td>0.595</td>\n",
       "      <td>140.022</td>\n",
       "      <td>181263.0</td>\n",
       "      <td>4.0</td>\n",
       "    </tr>\n",
       "  </tbody>\n",
       "</table>\n",
       "</div>"
      ],
      "text/plain": [
       "                       id                            name         artists  \\\n",
       "0   6DCZcSspjsKoFjzjrWoCd                      God's Plan           Drake   \n",
       "1   3ee8Jmje8o58CHK66QrVC                            SAD!    XXXTENTACION   \n",
       "2   0e7ipj03S05BNilyu5bRz      rockstar (feat. 21 Savage)     Post Malone   \n",
       "3   3swc6WTsr7rl9DqQKQA55    Psycho (feat. Ty Dolla $ign)     Post Malone   \n",
       "4   2G7V7zsVDxg1yRsu7Ew9R                  In My Feelings           Drake   \n",
       "5   7dt6x5M1jzdTEt8oCbisT                      Better Now     Post Malone   \n",
       "6   58q2HKrzhC3ozto2nDdN4                       I Like It         Cardi B   \n",
       "7   7ef4DlsgrMEH11cDZd32M        One Kiss (with Dua Lipa)   Calvin Harris   \n",
       "8   76cy1WJvNGJTj78UqeA5z                           IDGAF        Dua Lipa   \n",
       "9   08bNPGLD8AhKpnnERrAc6                         FRIENDS      Marshmello   \n",
       "10  1rfofaqEpACxVEHIZBJe6                          Havana  Camila Cabello   \n",
       "11  0s3nnoMeVWz3989MkNQiR                    Lucid Dreams      Juice WRLD   \n",
       "12  3CA9pLiwRIGtUBiMjbZmR                   Nice For What           Drake   \n",
       "13  7fa9MBXhVfQ8P8Df9OEbD  Girls Like You (feat. Cardi B)        Maroon 5   \n",
       "14  09IStsImFySgyp0pIQdqA                      The Middle            Zedd   \n",
       "15  3GCdLUSnKSMJhs4Tj6CV3        All The Stars (with SZA)  Kendrick Lamar   \n",
       "16  2qT1uLXPVPzGgFOx4jtEu            no tears left to cry   Ariana Grande   \n",
       "17  39N9RPD9MRb5WmoLzNzPe                               X       Nicky Jam   \n",
       "18  0JP9xo3adEtGSdUEISisz                       Moonlight    XXXTENTACION   \n",
       "19  4qKcDkK6siZ7Jp1Jb4m0a        Look Alive (feat. Drake)      BlocBoy JB   \n",
       "\n",
       "    danceability  energy   key  loudness  mode  speechiness  acousticness  \\\n",
       "0          0.754   0.449   7.0    -9.211   1.0       0.1090       0.03320   \n",
       "1          0.740   0.613   8.0    -4.880   1.0       0.1450       0.25800   \n",
       "2          0.587   0.535   5.0    -6.090   0.0       0.0898       0.11700   \n",
       "3          0.739   0.559   8.0    -8.011   1.0       0.1170       0.58000   \n",
       "4          0.835   0.626   1.0    -5.833   1.0       0.1250       0.05890   \n",
       "5          0.680   0.563  10.0    -5.843   1.0       0.0454       0.35400   \n",
       "6          0.816   0.726   5.0    -3.998   0.0       0.1290       0.09900   \n",
       "7          0.791   0.862   9.0    -3.240   0.0       0.1100       0.03700   \n",
       "8          0.836   0.544   7.0    -5.975   1.0       0.0943       0.04030   \n",
       "9          0.626   0.880   9.0    -2.384   0.0       0.0504       0.20500   \n",
       "10         0.765   0.523   2.0    -4.333   1.0       0.0300       0.18400   \n",
       "11         0.511   0.566   6.0    -7.230   0.0       0.2000       0.34900   \n",
       "12         0.586   0.909   8.0    -6.474   1.0       0.0705       0.08910   \n",
       "13         0.851   0.541   0.0    -6.825   1.0       0.0505       0.56800   \n",
       "14         0.753   0.657   7.0    -3.061   1.0       0.0449       0.17100   \n",
       "15         0.698   0.633   8.0    -4.946   1.0       0.0597       0.06050   \n",
       "16         0.699   0.713   9.0    -5.507   0.0       0.0594       0.04000   \n",
       "17         0.595   0.773   9.0    -4.736   0.0       0.0549       0.03640   \n",
       "18         0.921   0.537   9.0    -5.723   0.0       0.0804       0.55600   \n",
       "19         0.922   0.581  10.0    -7.495   1.0       0.2700       0.00104   \n",
       "\n",
       "    instrumentalness  liveness  valence    tempo  duration_ms  time_signature  \n",
       "0           0.000083    0.5520    0.357   77.169     198973.0             4.0  \n",
       "1           0.003720    0.1230    0.473   75.023     166606.0             4.0  \n",
       "2           0.000066    0.1310    0.140  159.847     218147.0             4.0  \n",
       "3           0.000000    0.1120    0.439  140.124     221440.0             4.0  \n",
       "4           0.000060    0.3960    0.350   91.030     217925.0             4.0  \n",
       "5           0.000000    0.1360    0.374  145.028     231267.0             4.0  \n",
       "6           0.000000    0.3720    0.650  136.048     253390.0             4.0  \n",
       "7           0.000022    0.0814    0.592  123.994     214847.0             4.0  \n",
       "8           0.000000    0.0824    0.510   97.028     217947.0             4.0  \n",
       "9           0.000000    0.1280    0.534   95.079     202621.0             4.0  \n",
       "10          0.000036    0.1320    0.394  104.988     217307.0             4.0  \n",
       "11          0.000000    0.3400    0.218   83.903     239836.0             4.0  \n",
       "12          0.000109    0.1190    0.757   93.394     210747.0             4.0  \n",
       "13          0.000000    0.1300    0.448  124.959     235545.0             4.0  \n",
       "14          0.000000    0.1120    0.437  107.010     184732.0             4.0  \n",
       "15          0.000194    0.0926    0.552   96.924     232187.0             4.0  \n",
       "16          0.000003    0.2940    0.354  121.993     205920.0             4.0  \n",
       "17          0.001080    0.3340    0.711  180.073     173628.0             4.0  \n",
       "18          0.004040    0.1020    0.711  128.009     135090.0             4.0  \n",
       "19          0.000059    0.1050    0.595  140.022     181263.0             4.0  "
      ]
     },
     "execution_count": 21,
     "metadata": {},
     "output_type": "execute_result"
    }
   ],
   "source": [
    "data.head(20)"
   ]
  },
  {
   "cell_type": "code",
   "execution_count": 22,
   "metadata": {},
   "outputs": [
    {
     "data": {
      "text/html": [
       "<div>\n",
       "<style scoped>\n",
       "    .dataframe tbody tr th:only-of-type {\n",
       "        vertical-align: middle;\n",
       "    }\n",
       "\n",
       "    .dataframe tbody tr th {\n",
       "        vertical-align: top;\n",
       "    }\n",
       "\n",
       "    .dataframe thead th {\n",
       "        text-align: right;\n",
       "    }\n",
       "</style>\n",
       "<table border=\"1\" class=\"dataframe\">\n",
       "  <thead>\n",
       "    <tr style=\"text-align: right;\">\n",
       "      <th></th>\n",
       "      <th>id</th>\n",
       "      <th>name</th>\n",
       "      <th>artists</th>\n",
       "      <th>danceability</th>\n",
       "      <th>energy</th>\n",
       "      <th>key</th>\n",
       "      <th>loudness</th>\n",
       "      <th>mode</th>\n",
       "      <th>speechiness</th>\n",
       "      <th>acousticness</th>\n",
       "      <th>instrumentalness</th>\n",
       "      <th>liveness</th>\n",
       "      <th>valence</th>\n",
       "      <th>tempo</th>\n",
       "      <th>duration_ms</th>\n",
       "      <th>time_signature</th>\n",
       "    </tr>\n",
       "  </thead>\n",
       "  <tbody>\n",
       "    <tr>\n",
       "      <th>count</th>\n",
       "      <td>100</td>\n",
       "      <td>100</td>\n",
       "      <td>100</td>\n",
       "      <td>100.00000</td>\n",
       "      <td>100.000000</td>\n",
       "      <td>100.000000</td>\n",
       "      <td>100.000000</td>\n",
       "      <td>100.000000</td>\n",
       "      <td>100.000000</td>\n",
       "      <td>100.000000</td>\n",
       "      <td>100.000000</td>\n",
       "      <td>100.000000</td>\n",
       "      <td>100.000000</td>\n",
       "      <td>100.000000</td>\n",
       "      <td>100.000000</td>\n",
       "      <td>100.00</td>\n",
       "    </tr>\n",
       "    <tr>\n",
       "      <th>unique</th>\n",
       "      <td>100</td>\n",
       "      <td>100</td>\n",
       "      <td>70</td>\n",
       "      <td>NaN</td>\n",
       "      <td>NaN</td>\n",
       "      <td>NaN</td>\n",
       "      <td>NaN</td>\n",
       "      <td>NaN</td>\n",
       "      <td>NaN</td>\n",
       "      <td>NaN</td>\n",
       "      <td>NaN</td>\n",
       "      <td>NaN</td>\n",
       "      <td>NaN</td>\n",
       "      <td>NaN</td>\n",
       "      <td>NaN</td>\n",
       "      <td>NaN</td>\n",
       "    </tr>\n",
       "    <tr>\n",
       "      <th>top</th>\n",
       "      <td>3a1lNhkSLSkpJE4MSHpDu</td>\n",
       "      <td>Finesse (Remix) [feat. Cardi B]</td>\n",
       "      <td>XXXTENTACION</td>\n",
       "      <td>NaN</td>\n",
       "      <td>NaN</td>\n",
       "      <td>NaN</td>\n",
       "      <td>NaN</td>\n",
       "      <td>NaN</td>\n",
       "      <td>NaN</td>\n",
       "      <td>NaN</td>\n",
       "      <td>NaN</td>\n",
       "      <td>NaN</td>\n",
       "      <td>NaN</td>\n",
       "      <td>NaN</td>\n",
       "      <td>NaN</td>\n",
       "      <td>NaN</td>\n",
       "    </tr>\n",
       "    <tr>\n",
       "      <th>freq</th>\n",
       "      <td>1</td>\n",
       "      <td>1</td>\n",
       "      <td>6</td>\n",
       "      <td>NaN</td>\n",
       "      <td>NaN</td>\n",
       "      <td>NaN</td>\n",
       "      <td>NaN</td>\n",
       "      <td>NaN</td>\n",
       "      <td>NaN</td>\n",
       "      <td>NaN</td>\n",
       "      <td>NaN</td>\n",
       "      <td>NaN</td>\n",
       "      <td>NaN</td>\n",
       "      <td>NaN</td>\n",
       "      <td>NaN</td>\n",
       "      <td>NaN</td>\n",
       "    </tr>\n",
       "    <tr>\n",
       "      <th>mean</th>\n",
       "      <td>NaN</td>\n",
       "      <td>NaN</td>\n",
       "      <td>NaN</td>\n",
       "      <td>0.71646</td>\n",
       "      <td>0.659060</td>\n",
       "      <td>5.330000</td>\n",
       "      <td>-5.677640</td>\n",
       "      <td>0.590000</td>\n",
       "      <td>0.115569</td>\n",
       "      <td>0.195701</td>\n",
       "      <td>0.001584</td>\n",
       "      <td>0.158302</td>\n",
       "      <td>0.484443</td>\n",
       "      <td>119.904180</td>\n",
       "      <td>205206.780000</td>\n",
       "      <td>3.98</td>\n",
       "    </tr>\n",
       "    <tr>\n",
       "      <th>std</th>\n",
       "      <td>NaN</td>\n",
       "      <td>NaN</td>\n",
       "      <td>NaN</td>\n",
       "      <td>0.13107</td>\n",
       "      <td>0.145067</td>\n",
       "      <td>3.676447</td>\n",
       "      <td>1.777577</td>\n",
       "      <td>0.494311</td>\n",
       "      <td>0.104527</td>\n",
       "      <td>0.220946</td>\n",
       "      <td>0.013449</td>\n",
       "      <td>0.111662</td>\n",
       "      <td>0.206145</td>\n",
       "      <td>28.795984</td>\n",
       "      <td>40007.893404</td>\n",
       "      <td>0.20</td>\n",
       "    </tr>\n",
       "    <tr>\n",
       "      <th>min</th>\n",
       "      <td>NaN</td>\n",
       "      <td>NaN</td>\n",
       "      <td>NaN</td>\n",
       "      <td>0.25800</td>\n",
       "      <td>0.296000</td>\n",
       "      <td>0.000000</td>\n",
       "      <td>-10.109000</td>\n",
       "      <td>0.000000</td>\n",
       "      <td>0.023200</td>\n",
       "      <td>0.000282</td>\n",
       "      <td>0.000000</td>\n",
       "      <td>0.021500</td>\n",
       "      <td>0.079600</td>\n",
       "      <td>64.934000</td>\n",
       "      <td>95467.000000</td>\n",
       "      <td>3.00</td>\n",
       "    </tr>\n",
       "    <tr>\n",
       "      <th>25%</th>\n",
       "      <td>NaN</td>\n",
       "      <td>NaN</td>\n",
       "      <td>NaN</td>\n",
       "      <td>0.63550</td>\n",
       "      <td>0.562000</td>\n",
       "      <td>1.750000</td>\n",
       "      <td>-6.650500</td>\n",
       "      <td>0.000000</td>\n",
       "      <td>0.045350</td>\n",
       "      <td>0.040225</td>\n",
       "      <td>0.000000</td>\n",
       "      <td>0.094675</td>\n",
       "      <td>0.341000</td>\n",
       "      <td>95.730750</td>\n",
       "      <td>184680.000000</td>\n",
       "      <td>4.00</td>\n",
       "    </tr>\n",
       "    <tr>\n",
       "      <th>50%</th>\n",
       "      <td>NaN</td>\n",
       "      <td>NaN</td>\n",
       "      <td>NaN</td>\n",
       "      <td>0.73300</td>\n",
       "      <td>0.678000</td>\n",
       "      <td>5.000000</td>\n",
       "      <td>-5.566500</td>\n",
       "      <td>1.000000</td>\n",
       "      <td>0.074950</td>\n",
       "      <td>0.109000</td>\n",
       "      <td>0.000000</td>\n",
       "      <td>0.118500</td>\n",
       "      <td>0.470500</td>\n",
       "      <td>120.116000</td>\n",
       "      <td>205047.500000</td>\n",
       "      <td>4.00</td>\n",
       "    </tr>\n",
       "    <tr>\n",
       "      <th>75%</th>\n",
       "      <td>NaN</td>\n",
       "      <td>NaN</td>\n",
       "      <td>NaN</td>\n",
       "      <td>0.79825</td>\n",
       "      <td>0.772250</td>\n",
       "      <td>8.250000</td>\n",
       "      <td>-4.363750</td>\n",
       "      <td>1.000000</td>\n",
       "      <td>0.137000</td>\n",
       "      <td>0.247750</td>\n",
       "      <td>0.000031</td>\n",
       "      <td>0.170750</td>\n",
       "      <td>0.641500</td>\n",
       "      <td>140.022750</td>\n",
       "      <td>221493.250000</td>\n",
       "      <td>4.00</td>\n",
       "    </tr>\n",
       "    <tr>\n",
       "      <th>max</th>\n",
       "      <td>NaN</td>\n",
       "      <td>NaN</td>\n",
       "      <td>NaN</td>\n",
       "      <td>0.96400</td>\n",
       "      <td>0.909000</td>\n",
       "      <td>11.000000</td>\n",
       "      <td>-2.384000</td>\n",
       "      <td>1.000000</td>\n",
       "      <td>0.530000</td>\n",
       "      <td>0.934000</td>\n",
       "      <td>0.134000</td>\n",
       "      <td>0.636000</td>\n",
       "      <td>0.931000</td>\n",
       "      <td>198.075000</td>\n",
       "      <td>417920.000000</td>\n",
       "      <td>5.00</td>\n",
       "    </tr>\n",
       "  </tbody>\n",
       "</table>\n",
       "</div>"
      ],
      "text/plain": [
       "                           id                             name       artists  \\\n",
       "count                     100                              100           100   \n",
       "unique                    100                              100            70   \n",
       "top     3a1lNhkSLSkpJE4MSHpDu  Finesse (Remix) [feat. Cardi B]  XXXTENTACION   \n",
       "freq                        1                                1             6   \n",
       "mean                      NaN                              NaN           NaN   \n",
       "std                       NaN                              NaN           NaN   \n",
       "min                       NaN                              NaN           NaN   \n",
       "25%                       NaN                              NaN           NaN   \n",
       "50%                       NaN                              NaN           NaN   \n",
       "75%                       NaN                              NaN           NaN   \n",
       "max                       NaN                              NaN           NaN   \n",
       "\n",
       "        danceability      energy         key    loudness        mode  \\\n",
       "count      100.00000  100.000000  100.000000  100.000000  100.000000   \n",
       "unique           NaN         NaN         NaN         NaN         NaN   \n",
       "top              NaN         NaN         NaN         NaN         NaN   \n",
       "freq             NaN         NaN         NaN         NaN         NaN   \n",
       "mean         0.71646    0.659060    5.330000   -5.677640    0.590000   \n",
       "std          0.13107    0.145067    3.676447    1.777577    0.494311   \n",
       "min          0.25800    0.296000    0.000000  -10.109000    0.000000   \n",
       "25%          0.63550    0.562000    1.750000   -6.650500    0.000000   \n",
       "50%          0.73300    0.678000    5.000000   -5.566500    1.000000   \n",
       "75%          0.79825    0.772250    8.250000   -4.363750    1.000000   \n",
       "max          0.96400    0.909000   11.000000   -2.384000    1.000000   \n",
       "\n",
       "        speechiness  acousticness  instrumentalness    liveness     valence  \\\n",
       "count    100.000000    100.000000        100.000000  100.000000  100.000000   \n",
       "unique          NaN           NaN               NaN         NaN         NaN   \n",
       "top             NaN           NaN               NaN         NaN         NaN   \n",
       "freq            NaN           NaN               NaN         NaN         NaN   \n",
       "mean       0.115569      0.195701          0.001584    0.158302    0.484443   \n",
       "std        0.104527      0.220946          0.013449    0.111662    0.206145   \n",
       "min        0.023200      0.000282          0.000000    0.021500    0.079600   \n",
       "25%        0.045350      0.040225          0.000000    0.094675    0.341000   \n",
       "50%        0.074950      0.109000          0.000000    0.118500    0.470500   \n",
       "75%        0.137000      0.247750          0.000031    0.170750    0.641500   \n",
       "max        0.530000      0.934000          0.134000    0.636000    0.931000   \n",
       "\n",
       "             tempo    duration_ms  time_signature  \n",
       "count   100.000000     100.000000          100.00  \n",
       "unique         NaN            NaN             NaN  \n",
       "top            NaN            NaN             NaN  \n",
       "freq           NaN            NaN             NaN  \n",
       "mean    119.904180  205206.780000            3.98  \n",
       "std      28.795984   40007.893404            0.20  \n",
       "min      64.934000   95467.000000            3.00  \n",
       "25%      95.730750  184680.000000            4.00  \n",
       "50%     120.116000  205047.500000            4.00  \n",
       "75%     140.022750  221493.250000            4.00  \n",
       "max     198.075000  417920.000000            5.00  "
      ]
     },
     "execution_count": 22,
     "metadata": {},
     "output_type": "execute_result"
    }
   ],
   "source": [
    "data.describe(include=\"all\")"
   ]
  },
  {
   "cell_type": "code",
   "execution_count": 23,
   "metadata": {},
   "outputs": [],
   "source": [
    "num= data.drop(['id','name','artists','tempo','duration_ms','key','loudness','time_signature'], axis=1)"
   ]
  },
  {
   "cell_type": "code",
   "execution_count": 24,
   "metadata": {},
   "outputs": [],
   "source": [
    "sns.set_palette('deep')"
   ]
  },
  {
   "cell_type": "code",
   "execution_count": 25,
   "metadata": {},
   "outputs": [
    {
     "data": {
      "text/plain": [
       "<matplotlib.axes._subplots.AxesSubplot at 0xf4d5898fd0>"
      ]
     },
     "execution_count": 25,
     "metadata": {},
     "output_type": "execute_result"
    },
    {
     "data": {
      "image/png": "[encoded data removed]",
      "text/plain": [
       "<Figure size 864x720 with 1 Axes>"
      ]
     },
     "metadata": {
      "needs_background": "light"
     },
     "output_type": "display_data"
    }
   ],
   "source": [
    "plt.subplots(figsize=(12,10))\n",
    "artist = data['artists'].groupby(data['artists']).count().sort_values(ascending=False)\n",
    "plt.xlabel('Artists',size=12)\n",
    "plt.xticks(size=15)\n",
    "plt.ylabel('Count',size=12)\n",
    "plt.title('Artists with Most Songs in Top 100',size=20)\n",
    "artist.head(10).plot('bar')"
   ]
  },
  {
   "cell_type": "code",
   "execution_count": 26,
   "metadata": {},
   "outputs": [
    {
     "data": {
      "image/png": "[encoded data removed]",
      "text/plain": [
       "<Figure size 432x288 with 1 Axes>"
      ]
     },
     "metadata": {
      "needs_background": "light"
     },
     "output_type": "display_data"
    }
   ],
   "source": [
    "num.mean().plot.bar()\n",
    "plt.title('Mean Values of Audio Features')\n",
    "plt.show()"
   ]
  },
  {
   "cell_type": "code",
   "execution_count": 27,
   "metadata": {},
   "outputs": [
    {
     "name": "stdout",
     "output_type": "stream",
     "text": [
      "Mean value for Danceability: 0.71646\n"
     ]
    },
    {
     "name": "stderr",
     "output_type": "stream",
     "text": [
      "C:\\ProgramData\\Anaconda3\\lib\\site-packages\\scipy\\stats\\stats.py:1713: FutureWarning: Using a non-tuple sequence for multidimensional indexing is deprecated; use `arr[tuple(seq)]` instead of `arr[seq]`. In the future this will be interpreted as an array index, `arr[np.array(seq)]`, which will result either in an error or a different result.\n",
      "  return np.add.reduce(sorted[indexer] * weights, axis=axis) / sumval\n"
     ]
    },
    {
     "data": {
      "image/png": "[encoded data removed]",
      "text/plain": [
       "<Figure size 432x288 with 1 Axes>"
      ]
     },
     "metadata": {
      "needs_background": "light"
     },
     "output_type": "display_data"
    }
   ],
   "source": [
    "print(\"Mean value for Danceability:\", data['danceability'].mean())\n",
    "sns.distplot(data['danceability'])\n",
    "plt.xlabel('Danceability',size=12)\n",
    "plt.show()"
   ]
  },
  {
   "cell_type": "code",
   "execution_count": 28,
   "metadata": {},
   "outputs": [
    {
     "name": "stdout",
     "output_type": "stream",
     "text": [
      "Mean value for energy: 0.6590600000000001\n"
     ]
    },
    {
     "data": {
      "image/png": "[encoded data removed]",
      "text/plain": [
       "<Figure size 432x288 with 1 Axes>"
      ]
     },
     "metadata": {
      "needs_background": "light"
     },
     "output_type": "display_data"
    }
   ],
   "source": [
    "print(\"Mean value for energy:\", data['energy'].mean())\n",
    "sns.distplot(data['energy'])\n",
    "plt.xlabel('Energy',size=12)\n",
    "plt.show()"
   ]
  },
  {
   "cell_type": "code",
   "execution_count": 29,
   "metadata": {},
   "outputs": [
    {
     "name": "stdout",
     "output_type": "stream",
     "text": [
      "Mean value for loudness: -5.677639999999999\n"
     ]
    },
    {
     "data": {
      "image/png": "[encoded data removed]",
      "text/plain": [
       "<Figure size 432x288 with 1 Axes>"
      ]
     },
     "metadata": {
      "needs_background": "light"
     },
     "output_type": "display_data"
    }
   ],
   "source": [
    "print(\"Mean value for loudness:\", data['loudness'].mean())\n",
    "sns.distplot(data['loudness'])\n",
    "plt.xlabel('Loudness',size=12)\n",
    "plt.show()"
   ]
  },
  {
   "cell_type": "code",
   "execution_count": 30,
   "metadata": {},
   "outputs": [
    {
     "name": "stdout",
     "output_type": "stream",
     "text": [
      "Mean value for speechiness: 0.11556900000000006\n"
     ]
    },
    {
     "data": {
      "image/png": "[encoded data removed]",
      "text/plain": [
       "<Figure size 432x288 with 1 Axes>"
      ]
     },
     "metadata": {
      "needs_background": "light"
     },
     "output_type": "display_data"
    }
   ],
   "source": [
    "print(\"Mean value for speechiness:\", data['speechiness'].mean())\n",
    "sns.distplot(data['speechiness'])\n",
    "plt.xlabel('Speechiness',size=12)\n",
    "plt.show()"
   ]
  },
  {
   "cell_type": "code",
   "execution_count": 31,
   "metadata": {},
   "outputs": [
    {
     "name": "stdout",
     "output_type": "stream",
     "text": [
      "Mean value for acousticness: 0.19570131999999998\n"
     ]
    },
    {
     "data": {
      "image/png": "[encoded data removed]",
      "text/plain": [
       "<Figure size 432x288 with 1 Axes>"
      ]
     },
     "metadata": {
      "needs_background": "light"
     },
     "output_type": "display_data"
    }
   ],
   "source": [
    "print(\"Mean value for acousticness:\", data['acousticness'].mean())\n",
    "sns.distplot(data['acousticness'])\n",
    "plt.xlabel('Acousticness',size=12)\n",
    "plt.show()"
   ]
  },
  {
   "cell_type": "code",
   "execution_count": 32,
   "metadata": {},
   "outputs": [
    {
     "name": "stdout",
     "output_type": "stream",
     "text": [
      "Mean value for instrumentalness: 0.0015835864000000002\n"
     ]
    },
    {
     "data": {
      "image/png": "[encoded data removed]",
      "text/plain": [
       "<Figure size 432x288 with 1 Axes>"
      ]
     },
     "metadata": {
      "needs_background": "light"
     },
     "output_type": "display_data"
    }
   ],
   "source": [
    "print(\"Mean value for instrumentalness:\", data['instrumentalness'].mean())\n",
    "sns.distplot(data['instrumentalness'])\n",
    "plt.xlabel('Instrumentalness',size=12)\n",
    "plt.show()"
   ]
  },
  {
   "cell_type": "code",
   "execution_count": 33,
   "metadata": {},
   "outputs": [
    {
     "name": "stdout",
     "output_type": "stream",
     "text": [
      "Mean value for liveness:valen 0.15830199999999997\n"
     ]
    },
    {
     "data": {
      "image/png": "[encoded data removed]",
      "text/plain": [
       "<Figure size 432x288 with 1 Axes>"
      ]
     },
     "metadata": {
      "needs_background": "light"
     },
     "output_type": "display_data"
    }
   ],
   "source": [
    "print(\"Mean value for liveness:valen\", data['liveness'].mean())\n",
    "sns.distplot(data['liveness'])\n",
    "plt.xlabel('Liveness',size=12)\n",
    "plt.show()"
   ]
  },
  {
   "cell_type": "code",
   "execution_count": 34,
   "metadata": {},
   "outputs": [
    {
     "name": "stdout",
     "output_type": "stream",
     "text": [
      "Mean value for valence feature: 0.4844429999999997\n"
     ]
    },
    {
     "data": {
      "image/png": "[encoded data removed]",
      "text/plain": [
       "<Figure size 432x288 with 1 Axes>"
      ]
     },
     "metadata": {
      "needs_background": "light"
     },
     "output_type": "display_data"
    }
   ],
   "source": [
    "print('Mean value for valence feature:', data['valence'].mean())\n",
    "sns.distplot(data['valence'])\n",
    "plt.xlabel('Valence',size=12)\n",
    "plt.show()"
   ]
  },
  {
   "cell_type": "code",
   "execution_count": 35,
   "metadata": {},
   "outputs": [
    {
     "name": "stdout",
     "output_type": "stream",
     "text": [
      "Mean value for tempo feature: 119.90417999999998 bpm\n"
     ]
    },
    {
     "data": {
      "image/png": "[encoded data removed]",
      "text/plain": [
       "<Figure size 432x288 with 1 Axes>"
      ]
     },
     "metadata": {
      "needs_background": "light"
     },
     "output_type": "display_data"
    }
   ],
   "source": [
    "print('Mean value for tempo feature:', data['tempo'].mean(),'bpm')\n",
    "sns.distplot(data['tempo'])\n",
    "plt.xlabel('Tempo',size=12)\n",
    "plt.show()"
   ]
  },
  {
   "cell_type": "code",
   "execution_count": 37,
   "metadata": {},
   "outputs": [
    {
     "name": "stdout",
     "output_type": "stream",
     "text": [
      "Mean value for Duration (milliseconds): 205206.78 ms\n"
     ]
    },
    {
     "data": {
      "image/png": "[encoded data removed]",
      "text/plain": [
       "<Figure size 432x288 with 1 Axes>"
      ]
     },
     "metadata": {
      "needs_background": "light"
     },
     "output_type": "display_data"
    }
   ],
   "source": [
    "print('Mean value for Duration (milliseconds):', data['duration_ms'].mean(),'ms')\n",
    "sns.distplot(data['duration_ms'])\n",
    "plt.xlabel('Duration (milliseconds',size=12)\n",
    "plt.show()"
   ]
  }
 ],
 "metadata": {
  "kernelspec": {
   "display_name": "Python 3",
   "language": "python",
   "name": "python3"
  },
  "language_info": {
   "codemirror_mode": {
    "name": "ipython",
    "version": 3
   },
   "file_extension": ".py",
   "mimetype": "text/x-python",
   "name": "python",
   "nbconvert_exporter": "python",
   "pygments_lexer": "ipython3",
   "version": "3.7.1"
  }
 },
 "nbformat": 4,
 "nbformat_minor": 2
}
